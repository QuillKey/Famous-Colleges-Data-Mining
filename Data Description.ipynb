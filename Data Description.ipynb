{
 "cells": [
  {
   "cell_type": "markdown",
   "metadata": {},
   "source": [
    "## Data Description"
   ]
  },
  {
   "cell_type": "code",
   "execution_count": 1,
   "metadata": {},
   "outputs": [],
   "source": [
    "import pandas"
   ]
  },
  {
   "cell_type": "code",
   "execution_count": 2,
   "metadata": {},
   "outputs": [
    {
     "data": {
      "text/html": [
       "<div>\n",
       "<style scoped>\n",
       "    .dataframe tbody tr th:only-of-type {\n",
       "        vertical-align: middle;\n",
       "    }\n",
       "\n",
       "    .dataframe tbody tr th {\n",
       "        vertical-align: top;\n",
       "    }\n",
       "\n",
       "    .dataframe thead th {\n",
       "        text-align: right;\n",
       "    }\n",
       "</style>\n",
       "<table border=\"1\" class=\"dataframe\">\n",
       "  <thead>\n",
       "    <tr style=\"text-align: right;\">\n",
       "      <th></th>\n",
       "      <th>name</th>\n",
       "      <th>birth_date</th>\n",
       "      <th>occupation</th>\n",
       "      <th>education</th>\n",
       "    </tr>\n",
       "  </thead>\n",
       "  <tbody>\n",
       "    <tr>\n",
       "      <td>0</td>\n",
       "      <td>Alain Connes</td>\n",
       "      <td>1947</td>\n",
       "      <td>NaN</td>\n",
       "      <td>['École Normale Supérieure', 'Pierre and Marie...</td>\n",
       "    </tr>\n",
       "    <tr>\n",
       "      <td>1</td>\n",
       "      <td>Aldous Huxley</td>\n",
       "      <td>1894</td>\n",
       "      <td>| occupation = {{hlist|Writer|philosopher}}</td>\n",
       "      <td>['Eton College', 'Balliol College, Oxford']</td>\n",
       "    </tr>\n",
       "    <tr>\n",
       "      <td>2</td>\n",
       "      <td>Arthur Schopenhauer</td>\n",
       "      <td>1788</td>\n",
       "      <td>NaN</td>\n",
       "      <td>[]</td>\n",
       "    </tr>\n",
       "    <tr>\n",
       "      <td>3</td>\n",
       "      <td>Albert Einstein</td>\n",
       "      <td>1879</td>\n",
       "      <td>NaN</td>\n",
       "      <td>['ETH Zurich|Federal Polytechnic School', 'Zur...</td>\n",
       "    </tr>\n",
       "    <tr>\n",
       "      <td>4</td>\n",
       "      <td>Alfred Korzybski</td>\n",
       "      <td>1879</td>\n",
       "      <td>NaN</td>\n",
       "      <td>['Warsaw University of Technology']</td>\n",
       "    </tr>\n",
       "    <tr>\n",
       "      <td>...</td>\n",
       "      <td>...</td>\n",
       "      <td>...</td>\n",
       "      <td>...</td>\n",
       "      <td>...</td>\n",
       "    </tr>\n",
       "    <tr>\n",
       "      <td>284573</td>\n",
       "      <td>Liezl van der Merwe</td>\n",
       "      <td>1980</td>\n",
       "      <td>| occupation          = Member of Parliament</td>\n",
       "      <td>[]</td>\n",
       "    </tr>\n",
       "    <tr>\n",
       "      <td>284574</td>\n",
       "      <td>Andrea Romero</td>\n",
       "      <td>NaN</td>\n",
       "      <td>NaN</td>\n",
       "      <td>['Stanford University', 'Bachelor of Arts|BA']</td>\n",
       "    </tr>\n",
       "    <tr>\n",
       "      <td>284575</td>\n",
       "      <td>Joy Garratt</td>\n",
       "      <td>1952</td>\n",
       "      <td>NaN</td>\n",
       "      <td>['Excelsior College', 'Bachelor of Arts|BA', '...</td>\n",
       "    </tr>\n",
       "    <tr>\n",
       "      <td>284576</td>\n",
       "      <td>Crystal Watson</td>\n",
       "      <td>1983</td>\n",
       "      <td>NaN</td>\n",
       "      <td>['University of Colorado Boulder', 'Johns Hopk...</td>\n",
       "    </tr>\n",
       "    <tr>\n",
       "      <td>284577</td>\n",
       "      <td>Uri Mayerfeld</td>\n",
       "      <td>| birth_date =</td>\n",
       "      <td>| occupation = [[Rosh Yeshiva]]</td>\n",
       "      <td>[]</td>\n",
       "    </tr>\n",
       "  </tbody>\n",
       "</table>\n",
       "<p>284578 rows × 4 columns</p>\n",
       "</div>"
      ],
      "text/plain": [
       "                       name      birth_date  \\\n",
       "0              Alain Connes            1947   \n",
       "1             Aldous Huxley            1894   \n",
       "2       Arthur Schopenhauer            1788   \n",
       "3           Albert Einstein            1879   \n",
       "4          Alfred Korzybski            1879   \n",
       "...                     ...             ...   \n",
       "284573  Liezl van der Merwe            1980   \n",
       "284574        Andrea Romero             NaN   \n",
       "284575          Joy Garratt            1952   \n",
       "284576       Crystal Watson            1983   \n",
       "284577        Uri Mayerfeld  | birth_date =   \n",
       "\n",
       "                                          occupation  \\\n",
       "0                                                NaN   \n",
       "1        | occupation = {{hlist|Writer|philosopher}}   \n",
       "2                                                NaN   \n",
       "3                                                NaN   \n",
       "4                                                NaN   \n",
       "...                                              ...   \n",
       "284573  | occupation          = Member of Parliament   \n",
       "284574                                           NaN   \n",
       "284575                                           NaN   \n",
       "284576                                           NaN   \n",
       "284577               | occupation = [[Rosh Yeshiva]]   \n",
       "\n",
       "                                                education  \n",
       "0       ['École Normale Supérieure', 'Pierre and Marie...  \n",
       "1             ['Eton College', 'Balliol College, Oxford']  \n",
       "2                                                      []  \n",
       "3       ['ETH Zurich|Federal Polytechnic School', 'Zur...  \n",
       "4                     ['Warsaw University of Technology']  \n",
       "...                                                   ...  \n",
       "284573                                                 []  \n",
       "284574     ['Stanford University', 'Bachelor of Arts|BA']  \n",
       "284575  ['Excelsior College', 'Bachelor of Arts|BA', '...  \n",
       "284576  ['University of Colorado Boulder', 'Johns Hopk...  \n",
       "284577                                                 []  \n",
       "\n",
       "[284578 rows x 4 columns]"
      ]
     },
     "execution_count": 2,
     "metadata": {},
     "output_type": "execute_result"
    }
   ],
   "source": [
    "wikipeople = pandas.read_csv('wikipeople.csv')\n",
    "wikipeople"
   ]
  },
  {
   "cell_type": "markdown",
   "metadata": {},
   "source": [
    "#### What are the observations (rows) and attributes (columns)?\n",
    "    The observations are people and the attributes are:\n",
    "    Their name, their birth date, their occupation, and what college they went to"
   ]
  },
  {
   "cell_type": "markdown",
   "metadata": {},
   "source": [
    "#### Why was this dataset created?\n",
    "    This dataset in its current form was created by me to examine what colleges the most number of famous people attended.\n",
    "    But the full wikipedia database was created as an open-source information platform.\n",
    "    According to the wikipedia page on wikipedia, wikipedia was created to be a publicly accessible and publicly \n",
    "    editable encyclopedia."
   ]
  },
  {
   "cell_type": "markdown",
   "metadata": {},
   "source": [
    "#### Who funded the creation of the dataset?\n",
    "    Wikipedia was originally funded by the CEOs of Bomis, but now is run by the non-profit organization wikimedia."
   ]
  },
  {
   "cell_type": "markdown",
   "metadata": {},
   "source": [
    "#### What processes might have influenced what data was observed and recorded and what was not?\n",
    "    Since wikipedia is an open-edit platform, any data in the public eye will be recorded.\n",
    "    Only information known to the general public (or enough of the public that a wiki editor knows it) will go on a person's wikipedia page."
   ]
  },
  {
   "cell_type": "markdown",
   "metadata": {},
   "source": [
    "#### What preprocessing was done, and how did the data come to be in the form that you are using?\n",
    "    For a full explaination of everything I did, see my data preprocessing ipynb.\n",
    "    First, I downloaded a recent wikipedia dump from wikimedia downloads.\n",
    "    Next, I iterated over the entire 17 GB file to extract all pages that had 'education' or 'alma mater' fields.\n",
    "    Next, I iterated over the new peoples file (3GB) to store information about each person in a pandas DataFrame.\n",
    "    Then I did a little bit of data cleaning so that the data in the dataframe was not nonsense strings.\n",
    "    I extracted birth years, schools, and names."
   ]
  },
  {
   "cell_type": "markdown",
   "metadata": {},
   "source": [
    "#### If people are involved, were they aware of the data collection and if so, what purpose did they expect the data to be used for?\n",
    "    I don't think people were actively aware of the data collection, but I think most people would assume that if\n",
    "    they are famous they have a wikipedia page.\n",
    "    \n",
    "    Of course, people born/dead before the creation of wikipedia have no idea information about their private lives is on display on the internet.\n",
    "    \n",
    "    The data in wikipedia is supposed to be for informing the populace of common-knowledge facts. In this case, \n",
    "    the common-knowledge facts are known information about renown people."
   ]
  },
  {
   "cell_type": "markdown",
   "metadata": {},
   "source": [
    "#### Where can your raw source data be found, if applicable?\n",
    "    See the link below!\n",
    "    https://dumps.wikimedia.org/enwiki/20200420/enwiki-20200420-pages-articles-multistream.xml.bz2"
   ]
  },
  {
   "cell_type": "markdown",
   "metadata": {},
   "source": [
    "####  Works Cited\n",
    "    wikipedia entry on wikipedia:\n",
    "        wikipedia.org/wiki/Wikipedia\n",
    "    wikipedia data dump:\n",
    "        https://dumps.wikimedia.org/enwiki/20200420/enwiki-20200420-pages-articles-multistream.xml.bz2"
   ]
  }
 ],
 "metadata": {
  "kernelspec": {
   "display_name": "Python 3",
   "language": "python",
   "name": "python3"
  },
  "language_info": {
   "codemirror_mode": {
    "name": "ipython",
    "version": 3
   },
   "file_extension": ".py",
   "mimetype": "text/x-python",
   "name": "python",
   "nbconvert_exporter": "python",
   "pygments_lexer": "ipython3",
   "version": "3.7.4"
  }
 },
 "nbformat": 4,
 "nbformat_minor": 2
}

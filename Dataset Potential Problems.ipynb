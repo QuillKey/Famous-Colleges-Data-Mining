{
 "cells": [
  {
   "cell_type": "markdown",
   "metadata": {},
   "source": [
    "## Potential Problems with the Dataset"
   ]
  },
  {
   "cell_type": "markdown",
   "metadata": {},
   "source": [
    "The dataset in question is a dataframe of all people famous enough to have a wikipedia page. My main anaylsis will be on what colleges these people attended. Below I enumerate potential problems with this dataset."
   ]
  },
  {
   "cell_type": "markdown",
   "metadata": {},
   "source": [
    "1. **Inconsistent labelling** is a huge issue. For instance, a person's tertiary education is labelled as *education* under some pages and as *alma mater* under other pages. I dealt with this in data preprocessing, but there may have been other labellings that slipped past me. This is also a problem with other fields."
   ]
  },
  {
   "cell_type": "markdown",
   "metadata": {},
   "source": [
    "2. **Duplicate pages**: there may be some people that have a separate wikipedia page under an alternative name."
   ]
  },
  {
   "cell_type": "markdown",
   "metadata": {},
   "source": [
    "3. I want to make *name* the index of the dataframe, but there are likely **multiple people with the same name**."
   ]
  },
  {
   "cell_type": "markdown",
   "metadata": {},
   "source": [
    "4. Some peoples' pages **list their high school** under *education*. What is with that?"
   ]
  },
  {
   "cell_type": "markdown",
   "metadata": {},
   "source": [
    "5. **Colleges with several names**: several universities might be listed under different names. For instance, we have to recognise that *Cornell University* and *Cornell* are the same thing. But we can't just eliminate the *college/university* suffix from the names because *Cornell College* is actually a different thing! I have no clue yet how I am going to deal with this."
   ]
  },
  {
   "cell_type": "markdown",
   "metadata": {},
   "source": [
    "6. The **occupation field is a nightmare**. Lots of data missing – for many pages, the occupation is placed in the text body rather than the infobox I collected data from. Is there a way to still utilize this data? I may have to end up chucking the field."
   ]
  }
 ],
 "metadata": {
  "kernelspec": {
   "display_name": "Python 3",
   "language": "python",
   "name": "python3"
  },
  "language_info": {
   "codemirror_mode": {
    "name": "ipython",
    "version": 3
   },
   "file_extension": ".py",
   "mimetype": "text/x-python",
   "name": "python",
   "nbconvert_exporter": "python",
   "pygments_lexer": "ipython3",
   "version": "3.7.4"
  }
 },
 "nbformat": 4,
 "nbformat_minor": 2
}

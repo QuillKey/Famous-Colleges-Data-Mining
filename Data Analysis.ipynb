{
 "cells": [
  {
   "cell_type": "markdown",
   "metadata": {},
   "source": [
    "# Data Analysis\n",
    "In this notebook I will examine the data I have collected from wikipedia. The big question I am answering is: <br>\n",
    "### What are the most surprisingly successful colleges?\n",
    "What colleges are the most attended by famous people in wikipedia history? Is that list what we expect?"
   ]
  },
  {
   "cell_type": "markdown",
   "metadata": {},
   "source": [
    "## Part I: Colleges by Count\n",
    "    In which I make a histogram plotting the top colleges by the number of people on wikipedia that attended that institution."
   ]
  },
  {
   "cell_type": "markdown",
   "metadata": {},
   "source": [
    "First, I load the datasets."
   ]
  },
  {
   "cell_type": "code",
   "execution_count": 1,
   "metadata": {},
   "outputs": [],
   "source": [
    "import numpy\n",
    "import pandas\n",
    "import re\n",
    "from matplotlib import pyplot"
   ]
  },
  {
   "cell_type": "code",
   "execution_count": 2,
   "metadata": {
    "scrolled": false
   },
   "outputs": [
    {
     "data": {
      "text/html": [
       "<div>\n",
       "<style scoped>\n",
       "    .dataframe tbody tr th:only-of-type {\n",
       "        vertical-align: middle;\n",
       "    }\n",
       "\n",
       "    .dataframe tbody tr th {\n",
       "        vertical-align: top;\n",
       "    }\n",
       "\n",
       "    .dataframe thead th {\n",
       "        text-align: right;\n",
       "    }\n",
       "</style>\n",
       "<table border=\"1\" class=\"dataframe\">\n",
       "  <thead>\n",
       "    <tr style=\"text-align: right;\">\n",
       "      <th></th>\n",
       "      <th>birth_date</th>\n",
       "      <th>occupation</th>\n",
       "      <th>education</th>\n",
       "    </tr>\n",
       "    <tr>\n",
       "      <th>name</th>\n",
       "      <th></th>\n",
       "      <th></th>\n",
       "      <th></th>\n",
       "    </tr>\n",
       "  </thead>\n",
       "  <tbody>\n",
       "    <tr>\n",
       "      <td>Alain Connes</td>\n",
       "      <td>1947</td>\n",
       "      <td>NaN</td>\n",
       "      <td>['École Normale Supérieure', 'Pierre and Marie...</td>\n",
       "    </tr>\n",
       "    <tr>\n",
       "      <td>Aldous Huxley</td>\n",
       "      <td>1894</td>\n",
       "      <td>{{hlist|writer|philosopher}}</td>\n",
       "      <td>['Eton College']</td>\n",
       "    </tr>\n",
       "    <tr>\n",
       "      <td>Arthur Schopenhauer</td>\n",
       "      <td>1788</td>\n",
       "      <td>NaN</td>\n",
       "      <td>[]</td>\n",
       "    </tr>\n",
       "    <tr>\n",
       "      <td>Albert Einstein</td>\n",
       "      <td>1879</td>\n",
       "      <td>NaN</td>\n",
       "      <td>['ETH Zurich|Federal Polytechnic School', 'Zur...</td>\n",
       "    </tr>\n",
       "    <tr>\n",
       "      <td>Alfred Korzybski</td>\n",
       "      <td>1879</td>\n",
       "      <td>NaN</td>\n",
       "      <td>['Warsaw University of Technology']</td>\n",
       "    </tr>\n",
       "  </tbody>\n",
       "</table>\n",
       "</div>"
      ],
      "text/plain": [
       "                     birth_date                     occupation  \\\n",
       "name                                                             \n",
       "Alain Connes               1947                            NaN   \n",
       "Aldous Huxley              1894   {{hlist|writer|philosopher}}   \n",
       "Arthur Schopenhauer        1788                            NaN   \n",
       "Albert Einstein            1879                            NaN   \n",
       "Alfred Korzybski           1879                            NaN   \n",
       "\n",
       "                                                             education  \n",
       "name                                                                    \n",
       "Alain Connes         ['École Normale Supérieure', 'Pierre and Marie...  \n",
       "Aldous Huxley                                         ['Eton College']  \n",
       "Arthur Schopenhauer                                                 []  \n",
       "Albert Einstein      ['ETH Zurich|Federal Polytechnic School', 'Zur...  \n",
       "Alfred Korzybski                   ['Warsaw University of Technology']  "
      ]
     },
     "execution_count": 2,
     "metadata": {},
     "output_type": "execute_result"
    }
   ],
   "source": [
    "wikipeople = pandas.read_csv('wikipeople_cleaned.csv')\n",
    "wikipeople.set_index('name', inplace=True)\n",
    "wikipeople.head()"
   ]
  },
  {
   "cell_type": "code",
   "execution_count": 3,
   "metadata": {},
   "outputs": [
    {
     "data": {
      "text/html": [
       "<div>\n",
       "<style scoped>\n",
       "    .dataframe tbody tr th:only-of-type {\n",
       "        vertical-align: middle;\n",
       "    }\n",
       "\n",
       "    .dataframe tbody tr th {\n",
       "        vertical-align: top;\n",
       "    }\n",
       "\n",
       "    .dataframe thead th {\n",
       "        text-align: right;\n",
       "    }\n",
       "</style>\n",
       "<table border=\"1\" class=\"dataframe\">\n",
       "  <thead>\n",
       "    <tr style=\"text-align: right;\">\n",
       "      <th></th>\n",
       "      <th>school</th>\n",
       "      <th>count</th>\n",
       "      <th>notable_students</th>\n",
       "    </tr>\n",
       "  </thead>\n",
       "  <tbody>\n",
       "    <tr>\n",
       "      <td>0</td>\n",
       "      <td>École Normale Supérieure</td>\n",
       "      <td>199</td>\n",
       "      <td>['Alain Connes', 'André Weil', 'Henri Bergson'...</td>\n",
       "    </tr>\n",
       "    <tr>\n",
       "      <td>1</td>\n",
       "      <td>Pierre and Marie Curie University</td>\n",
       "      <td>48</td>\n",
       "      <td>['Alain Connes', 'Ahmad Motamedi', 'Pierre-Lou...</td>\n",
       "    </tr>\n",
       "    <tr>\n",
       "      <td>2</td>\n",
       "      <td>Eton College</td>\n",
       "      <td>702</td>\n",
       "      <td>['Aldous Huxley', 'A. J. Ayer', 'George Orwell...</td>\n",
       "    </tr>\n",
       "    <tr>\n",
       "      <td>3</td>\n",
       "      <td>ETH Zurich|Federal Polytechnic School</td>\n",
       "      <td>1</td>\n",
       "      <td>['Albert Einstein']</td>\n",
       "    </tr>\n",
       "    <tr>\n",
       "      <td>4</td>\n",
       "      <td>Zurich</td>\n",
       "      <td>15</td>\n",
       "      <td>['Albert Einstein', 'Claus Westermann', 'Annem...</td>\n",
       "    </tr>\n",
       "  </tbody>\n",
       "</table>\n",
       "</div>"
      ],
      "text/plain": [
       "                                  school  count  \\\n",
       "0               École Normale Supérieure    199   \n",
       "1      Pierre and Marie Curie University     48   \n",
       "2                           Eton College    702   \n",
       "3  ETH Zurich|Federal Polytechnic School      1   \n",
       "4                                 Zurich     15   \n",
       "\n",
       "                                    notable_students  \n",
       "0  ['Alain Connes', 'André Weil', 'Henri Bergson'...  \n",
       "1  ['Alain Connes', 'Ahmad Motamedi', 'Pierre-Lou...  \n",
       "2  ['Aldous Huxley', 'A. J. Ayer', 'George Orwell...  \n",
       "3                                ['Albert Einstein']  \n",
       "4  ['Albert Einstein', 'Claus Westermann', 'Annem...  "
      ]
     },
     "execution_count": 3,
     "metadata": {},
     "output_type": "execute_result"
    }
   ],
   "source": [
    "tertiary_education = pandas.read_csv('tertiary_education.csv')\n",
    "tertiary_education.head()"
   ]
  },
  {
   "cell_type": "markdown",
   "metadata": {},
   "source": [
    "Now it's time to make the histogram."
   ]
  },
  {
   "cell_type": "code",
   "execution_count": 4,
   "metadata": {},
   "outputs": [],
   "source": [
    "# pyplot.hist(tertiary_education['count'])\n",
    "# pyplot.show()"
   ]
  },
  {
   "cell_type": "markdown",
   "metadata": {},
   "source": [
    "This last block of code gives us an error. We have too many data points. Let's try filtering out schools with at least 100 hits."
   ]
  },
  {
   "cell_type": "code",
   "execution_count": 5,
   "metadata": {
    "scrolled": true
   },
   "outputs": [
    {
     "data": {
      "text/html": [
       "<div>\n",
       "<style scoped>\n",
       "    .dataframe tbody tr th:only-of-type {\n",
       "        vertical-align: middle;\n",
       "    }\n",
       "\n",
       "    .dataframe tbody tr th {\n",
       "        vertical-align: top;\n",
       "    }\n",
       "\n",
       "    .dataframe thead th {\n",
       "        text-align: right;\n",
       "    }\n",
       "</style>\n",
       "<table border=\"1\" class=\"dataframe\">\n",
       "  <thead>\n",
       "    <tr style=\"text-align: right;\">\n",
       "      <th></th>\n",
       "      <th>school</th>\n",
       "      <th>count</th>\n",
       "      <th>notable_students</th>\n",
       "    </tr>\n",
       "  </thead>\n",
       "  <tbody>\n",
       "    <tr>\n",
       "      <td>0</td>\n",
       "      <td>École Normale Supérieure</td>\n",
       "      <td>199</td>\n",
       "      <td>['Alain Connes', 'André Weil', 'Henri Bergson'...</td>\n",
       "    </tr>\n",
       "    <tr>\n",
       "      <td>2</td>\n",
       "      <td>Eton College</td>\n",
       "      <td>702</td>\n",
       "      <td>['Aldous Huxley', 'A. J. Ayer', 'George Orwell...</td>\n",
       "    </tr>\n",
       "    <tr>\n",
       "      <td>5</td>\n",
       "      <td>University of Zurich</td>\n",
       "      <td>139</td>\n",
       "      <td>['Albert Einstein', 'Wilhelm Röntgen', 'Rosa L...</td>\n",
       "    </tr>\n",
       "    <tr>\n",
       "      <td>7</td>\n",
       "      <td>University of Edinburgh</td>\n",
       "      <td>1183</td>\n",
       "      <td>['Alexander Graham Bell', 'David Hume', 'David...</td>\n",
       "    </tr>\n",
       "    <tr>\n",
       "      <td>8</td>\n",
       "      <td>University College London</td>\n",
       "      <td>736</td>\n",
       "      <td>['Alexander Graham Bell', 'Angela Vincent', 'J...</td>\n",
       "    </tr>\n",
       "  </tbody>\n",
       "</table>\n",
       "</div>"
      ],
      "text/plain": [
       "                      school  count  \\\n",
       "0   École Normale Supérieure    199   \n",
       "2               Eton College    702   \n",
       "5       University of Zurich    139   \n",
       "7    University of Edinburgh   1183   \n",
       "8  University College London    736   \n",
       "\n",
       "                                    notable_students  \n",
       "0  ['Alain Connes', 'André Weil', 'Henri Bergson'...  \n",
       "2  ['Aldous Huxley', 'A. J. Ayer', 'George Orwell...  \n",
       "5  ['Albert Einstein', 'Wilhelm Röntgen', 'Rosa L...  \n",
       "7  ['Alexander Graham Bell', 'David Hume', 'David...  \n",
       "8  ['Alexander Graham Bell', 'Angela Vincent', 'J...  "
      ]
     },
     "execution_count": 5,
     "metadata": {},
     "output_type": "execute_result"
    }
   ],
   "source": [
    "top_schools = tertiary_education[tertiary_education['count'] > 100]\n",
    "top_schools.head()"
   ]
  },
  {
   "cell_type": "code",
   "execution_count": 6,
   "metadata": {
    "scrolled": true
   },
   "outputs": [
    {
     "data": {
      "image/png": "[encoded data removed]",
      "text/plain": [
       "<Figure size 432x288 with 1 Axes>"
      ]
     },
     "metadata": {
      "needs_background": "light"
     },
     "output_type": "display_data"
    }
   ],
   "source": [
    "pyplot.hist(top_schools['count'], bins=536)\n",
    "pyplot.title('Schools with over 100 famous Alumni')\n",
    "pyplot.xlabel('No. famous alumni')\n",
    "pyplot.ylabel('No. schools')\n",
    "pyplot.show()"
   ]
  },
  {
   "cell_type": "markdown",
   "metadata": {},
   "source": [
    "It looks like there are quite a lot of schools with 100 famous students, but a very long tail of schools with thousands of famous students. Why don't we break up top_schools by < 2000 students and > 2000 students to see what those histograms would look like."
   ]
  },
  {
   "cell_type": "code",
   "execution_count": 7,
   "metadata": {},
   "outputs": [
    {
     "data": {
      "text/html": [
       "<div>\n",
       "<style scoped>\n",
       "    .dataframe tbody tr th:only-of-type {\n",
       "        vertical-align: middle;\n",
       "    }\n",
       "\n",
       "    .dataframe tbody tr th {\n",
       "        vertical-align: top;\n",
       "    }\n",
       "\n",
       "    .dataframe thead th {\n",
       "        text-align: right;\n",
       "    }\n",
       "</style>\n",
       "<table border=\"1\" class=\"dataframe\">\n",
       "  <thead>\n",
       "    <tr style=\"text-align: right;\">\n",
       "      <th></th>\n",
       "      <th>school</th>\n",
       "      <th>count</th>\n",
       "      <th>notable_students</th>\n",
       "    </tr>\n",
       "  </thead>\n",
       "  <tbody>\n",
       "    <tr>\n",
       "      <td>0</td>\n",
       "      <td>École Normale Supérieure</td>\n",
       "      <td>199</td>\n",
       "      <td>['Alain Connes', 'André Weil', 'Henri Bergson'...</td>\n",
       "    </tr>\n",
       "    <tr>\n",
       "      <td>2</td>\n",
       "      <td>Eton College</td>\n",
       "      <td>702</td>\n",
       "      <td>['Aldous Huxley', 'A. J. Ayer', 'George Orwell...</td>\n",
       "    </tr>\n",
       "    <tr>\n",
       "      <td>5</td>\n",
       "      <td>University of Zurich</td>\n",
       "      <td>139</td>\n",
       "      <td>['Albert Einstein', 'Wilhelm Röntgen', 'Rosa L...</td>\n",
       "    </tr>\n",
       "    <tr>\n",
       "      <td>7</td>\n",
       "      <td>University of Edinburgh</td>\n",
       "      <td>1183</td>\n",
       "      <td>['Alexander Graham Bell', 'David Hume', 'David...</td>\n",
       "    </tr>\n",
       "    <tr>\n",
       "      <td>8</td>\n",
       "      <td>University College London</td>\n",
       "      <td>736</td>\n",
       "      <td>['Alexander Graham Bell', 'Angela Vincent', 'J...</td>\n",
       "    </tr>\n",
       "  </tbody>\n",
       "</table>\n",
       "</div>"
      ],
      "text/plain": [
       "                      school  count  \\\n",
       "0   École Normale Supérieure    199   \n",
       "2               Eton College    702   \n",
       "5       University of Zurich    139   \n",
       "7    University of Edinburgh   1183   \n",
       "8  University College London    736   \n",
       "\n",
       "                                    notable_students  \n",
       "0  ['Alain Connes', 'André Weil', 'Henri Bergson'...  \n",
       "2  ['Aldous Huxley', 'A. J. Ayer', 'George Orwell...  \n",
       "5  ['Albert Einstein', 'Wilhelm Röntgen', 'Rosa L...  \n",
       "7  ['Alexander Graham Bell', 'David Hume', 'David...  \n",
       "8  ['Alexander Graham Bell', 'Angela Vincent', 'J...  "
      ]
     },
     "execution_count": 7,
     "metadata": {},
     "output_type": "execute_result"
    }
   ],
   "source": [
    "top_schools_lower = top_schools[top_schools['count'] < 2000]\n",
    "top_schools_lower.head()"
   ]
  },
  {
   "cell_type": "code",
   "execution_count": 8,
   "metadata": {},
   "outputs": [
    {
     "data": {
      "text/html": [
       "<div>\n",
       "<style scoped>\n",
       "    .dataframe tbody tr th:only-of-type {\n",
       "        vertical-align: middle;\n",
       "    }\n",
       "\n",
       "    .dataframe tbody tr th {\n",
       "        vertical-align: top;\n",
       "    }\n",
       "\n",
       "    .dataframe thead th {\n",
       "        text-align: right;\n",
       "    }\n",
       "</style>\n",
       "<table border=\"1\" class=\"dataframe\">\n",
       "  <thead>\n",
       "    <tr style=\"text-align: right;\">\n",
       "      <th></th>\n",
       "      <th>school</th>\n",
       "      <th>count</th>\n",
       "      <th>notable_students</th>\n",
       "    </tr>\n",
       "  </thead>\n",
       "  <tbody>\n",
       "    <tr>\n",
       "      <td>15</td>\n",
       "      <td>Columbia University</td>\n",
       "      <td>3309</td>\n",
       "      <td>['Allen Ginsberg', 'Arthur Jensen', 'Brian De ...</td>\n",
       "    </tr>\n",
       "    <tr>\n",
       "      <td>64</td>\n",
       "      <td>Bachelor of Arts|BA</td>\n",
       "      <td>10061</td>\n",
       "      <td>['Alan Turing', 'Alan Turing', 'Arnold Schwarz...</td>\n",
       "    </tr>\n",
       "    <tr>\n",
       "      <td>65</td>\n",
       "      <td>Master of Arts|MA</td>\n",
       "      <td>2309</td>\n",
       "      <td>['Alan Turing', 'Dana Rohrabacher', 'Dana Rohr...</td>\n",
       "    </tr>\n",
       "    <tr>\n",
       "      <td>66</td>\n",
       "      <td>Princeton University</td>\n",
       "      <td>2240</td>\n",
       "      <td>['Alan Turing', 'Brian Kernighan', 'Donald Rum...</td>\n",
       "    </tr>\n",
       "    <tr>\n",
       "      <td>71</td>\n",
       "      <td>Harvard University</td>\n",
       "      <td>6289</td>\n",
       "      <td>['Alexander Agassiz', 'Buckminster Fuller', 'B...</td>\n",
       "    </tr>\n",
       "  </tbody>\n",
       "</table>\n",
       "</div>"
      ],
      "text/plain": [
       "                  school  count  \\\n",
       "15   Columbia University   3309   \n",
       "64   Bachelor of Arts|BA  10061   \n",
       "65     Master of Arts|MA   2309   \n",
       "66  Princeton University   2240   \n",
       "71    Harvard University   6289   \n",
       "\n",
       "                                     notable_students  \n",
       "15  ['Allen Ginsberg', 'Arthur Jensen', 'Brian De ...  \n",
       "64  ['Alan Turing', 'Alan Turing', 'Arnold Schwarz...  \n",
       "65  ['Alan Turing', 'Dana Rohrabacher', 'Dana Rohr...  \n",
       "66  ['Alan Turing', 'Brian Kernighan', 'Donald Rum...  \n",
       "71  ['Alexander Agassiz', 'Buckminster Fuller', 'B...  "
      ]
     },
     "execution_count": 8,
     "metadata": {},
     "output_type": "execute_result"
    }
   ],
   "source": [
    "top_schools_upper = top_schools[top_schools['count'] > 2000]\n",
    "top_schools_upper.head()"
   ]
  },
  {
   "cell_type": "markdown",
   "metadata": {},
   "source": [
    "There is that Bachelor of Arts and Master of Arts we were afraid of. Let's take that out of the data set."
   ]
  },
  {
   "cell_type": "code",
   "execution_count": 9,
   "metadata": {
    "scrolled": true
   },
   "outputs": [
    {
     "data": {
      "text/html": [
       "<div>\n",
       "<style scoped>\n",
       "    .dataframe tbody tr th:only-of-type {\n",
       "        vertical-align: middle;\n",
       "    }\n",
       "\n",
       "    .dataframe tbody tr th {\n",
       "        vertical-align: top;\n",
       "    }\n",
       "\n",
       "    .dataframe thead th {\n",
       "        text-align: right;\n",
       "    }\n",
       "</style>\n",
       "<table border=\"1\" class=\"dataframe\">\n",
       "  <thead>\n",
       "    <tr style=\"text-align: right;\">\n",
       "      <th></th>\n",
       "      <th>school</th>\n",
       "      <th>count</th>\n",
       "      <th>notable_students</th>\n",
       "    </tr>\n",
       "  </thead>\n",
       "  <tbody>\n",
       "    <tr>\n",
       "      <td>0</td>\n",
       "      <td>École Normale Supérieure</td>\n",
       "      <td>199</td>\n",
       "      <td>['Alain Connes', 'André Weil', 'Henri Bergson'...</td>\n",
       "    </tr>\n",
       "    <tr>\n",
       "      <td>1</td>\n",
       "      <td>Pierre and Marie Curie University</td>\n",
       "      <td>48</td>\n",
       "      <td>['Alain Connes', 'Ahmad Motamedi', 'Pierre-Lou...</td>\n",
       "    </tr>\n",
       "    <tr>\n",
       "      <td>2</td>\n",
       "      <td>Eton College</td>\n",
       "      <td>702</td>\n",
       "      <td>['Aldous Huxley', 'A. J. Ayer', 'George Orwell...</td>\n",
       "    </tr>\n",
       "    <tr>\n",
       "      <td>3</td>\n",
       "      <td>ETH Zurich|Federal Polytechnic School</td>\n",
       "      <td>1</td>\n",
       "      <td>['Albert Einstein']</td>\n",
       "    </tr>\n",
       "    <tr>\n",
       "      <td>4</td>\n",
       "      <td>Zurich</td>\n",
       "      <td>15</td>\n",
       "      <td>['Albert Einstein', 'Claus Westermann', 'Annem...</td>\n",
       "    </tr>\n",
       "  </tbody>\n",
       "</table>\n",
       "</div>"
      ],
      "text/plain": [
       "                                  school  count  \\\n",
       "0               École Normale Supérieure    199   \n",
       "1      Pierre and Marie Curie University     48   \n",
       "2                           Eton College    702   \n",
       "3  ETH Zurich|Federal Polytechnic School      1   \n",
       "4                                 Zurich     15   \n",
       "\n",
       "                                    notable_students  \n",
       "0  ['Alain Connes', 'André Weil', 'Henri Bergson'...  \n",
       "1  ['Alain Connes', 'Ahmad Motamedi', 'Pierre-Lou...  \n",
       "2  ['Aldous Huxley', 'A. J. Ayer', 'George Orwell...  \n",
       "3                                ['Albert Einstein']  \n",
       "4  ['Albert Einstein', 'Claus Westermann', 'Annem...  "
      ]
     },
     "execution_count": 9,
     "metadata": {},
     "output_type": "execute_result"
    }
   ],
   "source": [
    "temp_index = tertiary_education[tertiary_education['school'] == 'Bachelor of Arts|BA'].index\n",
    "tertiary_education = tertiary_education.drop(index=temp_index)\n",
    "temp_index = tertiary_education[tertiary_education['school'] == 'Master of Arts|MA'].index\n",
    "tertiary_education = tertiary_education.drop(index=temp_index)\n",
    "temp_index = tertiary_education[tertiary_education['school'] == 'Bachelor of Arts|B.A.'].index\n",
    "tertiary_education = tertiary_education.drop(index=temp_index)\n",
    "temp_index = tertiary_education[tertiary_education['school'] == 'Bachelor of Science|BS'].index\n",
    "tertiary_education = tertiary_education.drop(index=temp_index)\n",
    "temp_index = tertiary_education[tertiary_education['school'] == 'Juris Doctor|JD'].index\n",
    "tertiary_education = tertiary_education.drop(index=temp_index)\n",
    "temp_index = tertiary_education[tertiary_education['school'] == 'Juris Doctor|J.D.'].index\n",
    "tertiary_education = tertiary_education.drop(index=temp_index)\n",
    "tertiary_education.head()"
   ]
  },
  {
   "cell_type": "markdown",
   "metadata": {},
   "source": [
    "Now let's re-run our code to create the smaller dataframe slices."
   ]
  },
  {
   "cell_type": "code",
   "execution_count": 10,
   "metadata": {},
   "outputs": [],
   "source": [
    "top_schools = tertiary_education[tertiary_education['count'] > 100]\n",
    "top_schools_lower = top_schools[top_schools['count'] < 2000]\n",
    "top_schools_upper = top_schools[top_schools['count'] > 2000]"
   ]
  },
  {
   "cell_type": "code",
   "execution_count": 11,
   "metadata": {},
   "outputs": [
    {
     "data": {
      "text/plain": [
       "524"
      ]
     },
     "execution_count": 11,
     "metadata": {},
     "output_type": "execute_result"
    }
   ],
   "source": [
    "len(top_schools_lower.index)"
   ]
  },
  {
   "cell_type": "code",
   "execution_count": 12,
   "metadata": {},
   "outputs": [
    {
     "data": {
      "text/plain": [
       "6"
      ]
     },
     "execution_count": 12,
     "metadata": {},
     "output_type": "execute_result"
    }
   ],
   "source": [
    "len(top_schools_upper.index)"
   ]
  },
  {
   "cell_type": "markdown",
   "metadata": {},
   "source": [
    "### Histogram 1: Schools with between 100 and 2000 famous alumni"
   ]
  },
  {
   "cell_type": "code",
   "execution_count": 13,
   "metadata": {
    "scrolled": true
   },
   "outputs": [
    {
     "data": {
      "image/png": "[encoded data removed]",
      "text/plain": [
       "<Figure size 432x288 with 1 Axes>"
      ]
     },
     "metadata": {
      "needs_background": "light"
     },
     "output_type": "display_data"
    }
   ],
   "source": [
    "pyplot.hist(top_schools_lower['count'],bins=524)\n",
    "pyplot.title('Schools with between 100 and 2000 famous Alumni')\n",
    "pyplot.xlabel('No. famous alumni')\n",
    "pyplot.ylabel('No. schools')\n",
    "pyplot.show()"
   ]
  },
  {
   "cell_type": "markdown",
   "metadata": {},
   "source": [
    "We see here a long tail with this slice of schools. This makes sense: as the counts of famous alumni goes up, there are less and less schools with that many hits."
   ]
  },
  {
   "cell_type": "code",
   "execution_count": 14,
   "metadata": {},
   "outputs": [
    {
     "data": {
      "text/plain": [
       "1759"
      ]
     },
     "execution_count": 14,
     "metadata": {},
     "output_type": "execute_result"
    }
   ],
   "source": [
    "top_schools.loc[top_schools['school'] == 'Cornell University']['count'].values[0]"
   ]
  },
  {
   "cell_type": "markdown",
   "metadata": {},
   "source": [
    "Cornell University is at the very tail end of this histogram."
   ]
  },
  {
   "cell_type": "markdown",
   "metadata": {},
   "source": [
    "### Histogram 2: Schools with over 2000 famous alumni"
   ]
  },
  {
   "cell_type": "code",
   "execution_count": 15,
   "metadata": {},
   "outputs": [
    {
     "data": {
      "image/png": "[encoded data removed]",
      "text/plain": [
       "<Figure size 432x288 with 1 Axes>"
      ]
     },
     "metadata": {
      "needs_background": "light"
     },
     "output_type": "display_data"
    }
   ],
   "source": [
    "pyplot.hist(top_schools_upper['count'],bins=12, align='left', rwidth=0.9)\n",
    "pyplot.title('Schools with over 2000 famous Alumni')\n",
    "pyplot.xlabel('No. famous alumni')\n",
    "pyplot.ylabel('No. schools')\n",
    "pyplot.show()"
   ]
  },
  {
   "cell_type": "markdown",
   "metadata": {},
   "source": [
    "The bins in this histogram are much wider, but we can see how there are some (5) schools with famous alumni counts in the 2000s to 4000s range. There is one school all the way out above 5500 notable alumni, far more successful than the other schools. I wonder what school that is."
   ]
  },
  {
   "cell_type": "code",
   "execution_count": 16,
   "metadata": {},
   "outputs": [
    {
     "data": {
      "text/plain": [
       "71    Harvard University\n",
       "Name: school, dtype: object"
      ]
     },
     "execution_count": 16,
     "metadata": {},
     "output_type": "execute_result"
    }
   ],
   "source": [
    "top_schools_highest = top_schools_upper[top_schools_upper['count'] > 5000]\n",
    "top_schools_highest['school']"
   ]
  },
  {
   "cell_type": "markdown",
   "metadata": {},
   "source": [
    "Ah. Of course it is."
   ]
  },
  {
   "cell_type": "markdown",
   "metadata": {},
   "source": [
    "## Part II: Top Ten Successful Colleges\n",
    "    In which I examine the top ten colleges and compare to other methods of ranking."
   ]
  },
  {
   "cell_type": "markdown",
   "metadata": {},
   "source": [
    "First I would like to review top ten college lists from different sites."
   ]
  },
  {
   "cell_type": "markdown",
   "metadata": {},
   "source": [
    "From usnews.com we have the ranking:\n",
    "   1. Princeton\n",
    "   2. Harvard\n",
    "   3. Columbia\n",
    "   4. MIT\n",
    "   5. Yale\n",
    "   6. Stanford\n",
    "   7. UChicago\n",
    "   8. UPenn\n",
    "   9. Northwestern\n",
    "   10. Duke"
   ]
  },
  {
   "cell_type": "code",
   "execution_count": 17,
   "metadata": {},
   "outputs": [],
   "source": [
    "usnews = ['Princeton', 'Harvard', 'Columbia', 'MIT', 'Yale', 'Stanford', 'UChicago', 'UPenn', 'Northwestern', 'Duke']"
   ]
  },
  {
   "cell_type": "markdown",
   "metadata": {},
   "source": [
    "From forbes.com we have the ranking:\n",
    "1. Harvard\n",
    "2. Stanford\n",
    "3. Yale\n",
    "4. MIT\n",
    "5. Princeton\n",
    "6. UPenn\n",
    "7. Brown\n",
    "8. CalTech\n",
    "9. Duke\n",
    "10. Dartmouth"
   ]
  },
  {
   "cell_type": "code",
   "execution_count": 18,
   "metadata": {},
   "outputs": [],
   "source": [
    "forbes = ['Harvard','Stanford','Yale','MIT','Princeton','UPenn','Brown','CalTech','Duke','Dartmouth']"
   ]
  },
  {
   "cell_type": "markdown",
   "metadata": {},
   "source": [
    "From timeshighereducation.com we have the ranking:\n",
    "1. Harvard\n",
    "2. MIT\n",
    "3. Yale\n",
    "4. Columbia\n",
    "5. CalTech\n",
    "6. Stanford\n",
    "7. Brown\n",
    "8. Duke\n",
    "9. Princeton\n",
    "10. UPenn"
   ]
  },
  {
   "cell_type": "code",
   "execution_count": 19,
   "metadata": {},
   "outputs": [],
   "source": [
    "times = ['Harvard','MIT','Yale','Columbia','CalTech','Stanford','Brown','Duke','Princeton','UPenn']"
   ]
  },
  {
   "cell_type": "markdown",
   "metadata": {},
   "source": [
    "How similar will these rankings be with our top ten list?"
   ]
  },
  {
   "cell_type": "markdown",
   "metadata": {},
   "source": [
    "Let's construct a master ranking list out of these three to compare with our list."
   ]
  },
  {
   "cell_type": "code",
   "execution_count": 20,
   "metadata": {},
   "outputs": [],
   "source": [
    "ranking = {'Princeton':0, 'Harvard':0, 'Columbia':0, 'MIT':0, 'Yale':0, 'Stanford':0, 'UChicago':0, 'UPenn':0, 'Northwestern':0, 'Duke':0, 'Brown':0, 'CalTech':0, 'Dartmouth':0}"
   ]
  },
  {
   "cell_type": "code",
   "execution_count": 21,
   "metadata": {},
   "outputs": [
    {
     "data": {
      "text/plain": [
       "{'Princeton': 18,\n",
       " 'Harvard': 29,\n",
       " 'Columbia': 15,\n",
       " 'MIT': 23,\n",
       " 'Yale': 22,\n",
       " 'Stanford': 19,\n",
       " 'UChicago': 4,\n",
       " 'UPenn': 9,\n",
       " 'Northwestern': 2,\n",
       " 'Duke': 6,\n",
       " 'Brown': 8,\n",
       " 'CalTech': 9,\n",
       " 'Dartmouth': 1}"
      ]
     },
     "execution_count": 21,
     "metadata": {},
     "output_type": "execute_result"
    }
   ],
   "source": [
    "for i in range(10):\n",
    "    ranking[usnews[i]] = ranking[usnews[i]] + 10 - i\n",
    "    ranking[forbes[i]] = ranking[forbes[i]] + 10 - i\n",
    "    ranking[times[i]] = ranking[times[i]] + 10 - i\n",
    "ranking"
   ]
  },
  {
   "cell_type": "markdown",
   "metadata": {},
   "source": [
    "### Top Colleges ranking by popular online measures"
   ]
  },
  {
   "cell_type": "code",
   "execution_count": 22,
   "metadata": {},
   "outputs": [
    {
     "data": {
      "text/plain": [
       "['Harvard',\n",
       " 'MIT',\n",
       " 'Yale',\n",
       " 'Stanford',\n",
       " 'Princeton',\n",
       " 'Columbia',\n",
       " 'UPenn',\n",
       " 'CalTech',\n",
       " 'Brown',\n",
       " 'Duke']"
      ]
     },
     "execution_count": 22,
     "metadata": {},
     "output_type": "execute_result"
    }
   ],
   "source": [
    "aggregate_ranking = []\n",
    "temp = 'Harvard'\n",
    "while len(aggregate_ranking) < 10:\n",
    "    for key, value in ranking.items():\n",
    "        if value > ranking[temp]:\n",
    "            temp = key\n",
    "    aggregate_ranking.append(temp)\n",
    "    ranking[temp] = 0\n",
    "aggregate_ranking"
   ]
  },
  {
   "cell_type": "markdown",
   "metadata": {},
   "source": [
    "So this is our aggregate list based off the top online rankings. Now let's see what our model produces."
   ]
  },
  {
   "cell_type": "markdown",
   "metadata": {},
   "source": [
    "First, some guesses. As we've seen before, Harvard by far surpasses the other top schools. So the number 1 spot will at least be the same. Based on that, I think our list will be very similar. But there may be one or two shocking differences."
   ]
  },
  {
   "cell_type": "markdown",
   "metadata": {},
   "source": [
    "### Top Colleges ranking by greatest number of successful Alumni"
   ]
  },
  {
   "cell_type": "code",
   "execution_count": 23,
   "metadata": {},
   "outputs": [
    {
     "data": {
      "text/plain": [
       "['Harvard University',\n",
       " 'Yale University',\n",
       " 'Columbia University',\n",
       " 'Stanford University',\n",
       " 'University of Michigan',\n",
       " 'Princeton University',\n",
       " 'University of Cambridge',\n",
       " 'New York University',\n",
       " 'University of Chicago',\n",
       " 'Cornell University']"
      ]
     },
     "execution_count": 23,
     "metadata": {},
     "output_type": "execute_result"
    }
   ],
   "source": [
    "top_ten = []\n",
    "temp = ''\n",
    "temp_count = 0\n",
    "while len(top_ten) < 10:\n",
    "    for ind in top_schools.index:\n",
    "        school = top_schools['school'][ind]\n",
    "        school_count = top_schools['count'][ind]\n",
    "        if school in top_ten:\n",
    "            continue\n",
    "        elif school_count > temp_count:\n",
    "            temp = school\n",
    "            temp_count = school_count\n",
    "    top_ten.append(temp)\n",
    "    temp = ''\n",
    "    temp_count = 0\n",
    "top_ten"
   ]
  },
  {
   "cell_type": "markdown",
   "metadata": {},
   "source": [
    "Let's compare:"
   ]
  },
  {
   "cell_type": "code",
   "execution_count": 24,
   "metadata": {},
   "outputs": [
    {
     "name": "stdout",
     "output_type": "stream",
     "text": [
      "online ranking:  ['Harvard', 'MIT', 'Yale', 'Stanford', 'Princeton', 'Columbia', 'UPenn', 'CalTech', 'Brown', 'Duke']\n",
      "success ranking:  ['Harvard University', 'Yale University', 'Columbia University', 'Stanford University', 'University of Michigan', 'Princeton University', 'University of Cambridge', 'New York University', 'University of Chicago', 'Cornell University']\n"
     ]
    }
   ],
   "source": [
    "print ('online ranking: ', aggregate_ranking)\n",
    "print ('success ranking: ', top_ten)"
   ]
  },
  {
   "cell_type": "markdown",
   "metadata": {},
   "source": [
    "The top four look very similar: `Harvard`, `Yale`, `Columbia`, `Stanford`. <br>\n",
    "But there are some interesting differences. Let's take a closer look."
   ]
  },
  {
   "cell_type": "markdown",
   "metadata": {},
   "source": [
    "`University of Cambridge` shows up in our list, but not in the other. Why is this? <br>\n",
    "This one is simple. `Cambridge` is a European university while the other universities are all American. The online lists do not classify international institutions, although it looks like perhaps that wouldn't make a world of difference in the rankings. That being said, `Cambridge` is simply one of the world's top colleges that happens to be in another country. "
   ]
  },
  {
   "cell_type": "markdown",
   "metadata": {},
   "source": [
    "`New York University` made its way onto our list. While not one of the top top colleges by other rankings, NYU is a very good school and clearly is better than many of the ivies by our metric. This is a surprisingly successful school!"
   ]
  },
  {
   "cell_type": "markdown",
   "metadata": {},
   "source": [
    "`Cornell University` snuck onto our list. In the other online rankings it usually lands at 11 or 12, but here it was just able to make it on. Yay!"
   ]
  },
  {
   "cell_type": "markdown",
   "metadata": {},
   "source": [
    "`University of Michigan` is on our list. Now, this is a really interesting one. While considered a good school, `UMichigan` is usually not considered one of the best schools in the world. But it is number *5* on our list. UMichigan beats Princeton, Cambridge, and UChicago! This is one of the most successful colleges in the world!"
   ]
  },
  {
   "cell_type": "markdown",
   "metadata": {},
   "source": [
    "Why is UMichigan so successful? Well it has one of the best theatre programs in the world, and there are more people from UMichigan on Broadway on any other school. Acting is perhaps the sector that comes with the most fame – and I suspect a disproportionately large portion of wikipeople are actors and actresses. This could also explain why NYU shows up on the most successful list. Regardless, if you want fame and a wikipedia page of your own, UMichigan might be the way to get there!"
   ]
  },
  {
   "cell_type": "markdown",
   "metadata": {},
   "source": [
    "### Works Cited\n",
    "    https://www.usnews.com/best-colleges/rankings/national-universities\n",
    "    https://www.forbes.com/top-colleges/#640482791987\n",
    "    https://www.timeshighereducation.com/rankings/united-states/2019#!/page/0/length/25/sort_by/rank/sort_order/asc/cols/stats"
   ]
  },
  {
   "cell_type": "markdown",
   "metadata": {},
   "source": [
    "## Part III: Which of the Top Ten are getting more successful?\n",
    "    In which I graph how successful each of the top ten colleges has been over the past seventy years."
   ]
  },
  {
   "cell_type": "code",
   "execution_count": 25,
   "metadata": {},
   "outputs": [],
   "source": [
    "years = [1950,1955,1960,1965,1970,1975,1980,1985,1990,1995,2000,2005,2010,2015,2020]"
   ]
  },
  {
   "cell_type": "code",
   "execution_count": 26,
   "metadata": {},
   "outputs": [],
   "source": [
    "# harvard_success = []\n",
    "# for year in years:\n",
    "#     count = 0\n",
    "#     for alumni in top_schools[top_schools['school']=='Harvard University']['notable_students']:\n",
    "#         for alumnus in alumni:\n",
    "#             print(alumnus)\n",
    "#             if wikipeople[alumnus]['birth_date'] <= year:\n",
    "#                 count += 1\n",
    "#     harvard_success.append(count)\n",
    "# harvard_success"
   ]
  },
  {
   "cell_type": "markdown",
   "metadata": {},
   "source": [
    "This gives a strange error. It looks like once again when loading my csv pandas has misinterpreted the education field as a string rather than an array."
   ]
  },
  {
   "cell_type": "code",
   "execution_count": 27,
   "metadata": {},
   "outputs": [],
   "source": [
    "def string_to_array(thing):\n",
    "    # if it is already an array, return\n",
    "    if isinstance(thing, list):\n",
    "        return thing\n",
    "    # else turn it into an array\n",
    "    array = []\n",
    "    while len(thing) > 2:\n",
    "        temp = ' '\n",
    "        r = re.search('\\'([^,]*)\\'', thing)\n",
    "        if r:\n",
    "            temp = r.group(1)\n",
    "            array.append(temp)\n",
    "        else:\n",
    "            return array\n",
    "        thing = thing[len(temp)+4:]\n",
    "    return array"
   ]
  },
  {
   "cell_type": "code",
   "execution_count": 28,
   "metadata": {},
   "outputs": [],
   "source": [
    "tertiary_education['notable_students'] = [ string_to_array(alumnus) for alumnus in tertiary_education['notable_students'] ]"
   ]
  },
  {
   "cell_type": "markdown",
   "metadata": {},
   "source": [
    "Let's try again."
   ]
  },
  {
   "cell_type": "code",
   "execution_count": 29,
   "metadata": {},
   "outputs": [],
   "source": [
    "tertiary_education.set_index('school',inplace=True)"
   ]
  },
  {
   "cell_type": "code",
   "execution_count": 30,
   "metadata": {
    "scrolled": true
   },
   "outputs": [
    {
     "data": {
      "text/plain": [
       "[2720,\n",
       " 2972,\n",
       " 3253,\n",
       " 3655,\n",
       " 4038,\n",
       " 4448,\n",
       " 4840,\n",
       " 5184,\n",
       " 5498,\n",
       " 5767,\n",
       " 5962,\n",
       " 6097,\n",
       " 6157,\n",
       " 6179,\n",
       " 6196]"
      ]
     },
     "execution_count": 30,
     "metadata": {},
     "output_type": "execute_result"
    }
   ],
   "source": [
    "harvard_success = []\n",
    "for year in years:\n",
    "    count = 0\n",
    "    for alumnus in tertiary_education['notable_students']['Harvard University']:\n",
    "        if wikipeople.loc[alumnus]['birth_date'] + 22 <= year: # + 22 because there is an estimated 22 years between a notable alumni's birth and their college graduation\n",
    "            count += 1\n",
    "    harvard_success.append(count)\n",
    "harvard_success"
   ]
  },
  {
   "cell_type": "markdown",
   "metadata": {},
   "source": [
    "Success. Now let's make an array with the success rates for all schools by year."
   ]
  },
  {
   "cell_type": "code",
   "execution_count": 31,
   "metadata": {},
   "outputs": [],
   "source": [
    "i = 0\n",
    "schools_success_by_years = []\n",
    "while (i < 10):\n",
    "    school = top_ten[i]\n",
    "    temp_success = []\n",
    "    for year in years:\n",
    "        count = 0\n",
    "        for alumnus in tertiary_education['notable_students'][school]:\n",
    "            if alumnus == ' Nyong':\n",
    "                # there was some weird error with ' Nyong' we needed to get around;\n",
    "                # this was probably actress Lupita Nyong'o whose apostrophe threw a wrench into the converstion from string to array\n",
    "                alumnus = 'Lupita Nyong\\'o'\n",
    "            elif wikipeople.loc[alumnus]['birth_date'] + 22 <= year: \n",
    "                # + 22 because there is an estimated 22 years between a notable alumni's birth and their college graduation\n",
    "                count += 1\n",
    "        temp_success.append(count)\n",
    "    schools_success_by_years.append(temp_success)\n",
    "    i += 1"
   ]
  },
  {
   "cell_type": "markdown",
   "metadata": {},
   "source": [
    "A quick aside on the following data:<br><br>\n",
    "We will be plotting, for each college, year versus success. Let me briefly explain exactly what the success metric is.<br>\n",
    "The success metric is determined by the number of famous people attending that school that had graduated by that year. Graduation year is a rough estimation based on birth year + 22. Something to note is that at the time denoted, or at each given year, the school's number of successful people is less than our success metric. This is because people who just graduated were not famous yet and would not be famous for a while yet. But at that year, the success metric is the potential fame of all the alumni.<br><br>\n",
    "One last note: in this project I have basically used fame and success interchangeably. These two metrics are related, but not exactly the same. Still, I think marginal fame is a good stand-in measure for success (keep in mind that the level of fame needed to get onto wikipedia is nowhere near the level of fame needed to be a celebrity)."
   ]
  },
  {
   "cell_type": "code",
   "execution_count": 32,
   "metadata": {},
   "outputs": [],
   "source": [
    "colors = ['blue','green','red','cyan','magenta','black','teal','lime','orange','brown']"
   ]
  },
  {
   "cell_type": "markdown",
   "metadata": {},
   "source": [
    "### Success of Top Ten Schools by Year"
   ]
  },
  {
   "cell_type": "code",
   "execution_count": 33,
   "metadata": {},
   "outputs": [
    {
     "data": {
      "image/png": "[encoded data removed]",
      "text/plain": [
       "<Figure size 720x720 with 1 Axes>"
      ]
     },
     "metadata": {
      "needs_background": "light"
     },
     "output_type": "display_data"
    }
   ],
   "source": [
    "pyplot.figure(figsize=(10,10))\n",
    "for i in range(10):\n",
    "    pyplot.scatter(years, schools_success_by_years[i],color=colors[i], label=top_ten[i])\n",
    "pyplot.legend()\n",
    "pyplot.xlabel('Year')\n",
    "pyplot.ylabel('Number of Notable Alumni')\n",
    "pyplot.title('Success of the Top Ten Schools by Year')\n",
    "pyplot.show()"
   ]
  },
  {
   "cell_type": "markdown",
   "metadata": {},
   "source": [
    "All the schools seem to have a similar shaped curve over the last 70 years. Yale butted its way ahead of Columbia around 1970 and NYU made a quick rise around 2000, but overall all ten of the colleges seem to be growing at a similar pace. Interestingly, about the year 1990 it looks like the growth turned concave down rather than concave up."
   ]
  },
  {
   "cell_type": "markdown",
   "metadata": {},
   "source": [
    "I think it is worth noting that not only does Harvard have twice as many notable alumni as its next-in-line competitors Yale and Columbia, but the number of notable alumni Harvard had in *1950* is about equal to have many notable alumni Yale and Columbia have *now*. By this metric, Harvard is the best college far and away. It's not even in the same league as the other nine institutions."
   ]
  },
  {
   "cell_type": "markdown",
   "metadata": {},
   "source": [
    "But which of these schools has the steepest *rate of increase* in notable alumni? We can estimate this by making Linear Regressions of the ten top colleges and seeing which college's overall trend has the steepest slope."
   ]
  },
  {
   "cell_type": "markdown",
   "metadata": {},
   "source": [
    "### Institutions' Increasing Rate of Success"
   ]
  },
  {
   "cell_type": "markdown",
   "metadata": {},
   "source": [
    "By eyeballing the graph, it looks to me like Harvard and Yale will have the steepest slopes. We shall see."
   ]
  },
  {
   "cell_type": "code",
   "execution_count": 34,
   "metadata": {},
   "outputs": [],
   "source": [
    "from sklearn.linear_model import LinearRegression"
   ]
  },
  {
   "cell_type": "code",
   "execution_count": 35,
   "metadata": {},
   "outputs": [],
   "source": [
    "def regression_coef(x, y):\n",
    "    x = numpy.array(x).reshape(-1, 1)\n",
    "    model = LinearRegression().fit(x, y)\n",
    "    return model.coef_[0]"
   ]
  },
  {
   "cell_type": "code",
   "execution_count": 36,
   "metadata": {},
   "outputs": [
    {
     "name": "stdout",
     "output_type": "stream",
     "text": [
      "Harvard University :  54.95000000000001\n",
      "Yale University :  30.270714285714284\n",
      "Columbia University :  23.248571428571424\n",
      "Stanford University :  23.49142857142857\n",
      "University of Michigan :  16.955000000000002\n",
      "Princeton University :  18.040714285714284\n",
      "University of Cambridge :  14.285714285714286\n",
      "New York University :  17.762857142857143\n",
      "University of Chicago :  12.804285714285713\n",
      "Cornell University :  13.97642857142857\n"
     ]
    }
   ],
   "source": [
    "for i in range(10):\n",
    "    coef = regression_coef(years,schools_success_by_years[i])\n",
    "    print(top_ten[i],': ',coef)"
   ]
  },
  {
   "cell_type": "markdown",
   "metadata": {},
   "source": [
    "Yes indeed, Harvard once again tops the list with a slope of 55. As we predicted, Yale is next. More or less, the rate of increase follows the ranking of top schools, with a couple of schools slightly ahead or behind of what their ranking would suggest."
   ]
  },
  {
   "cell_type": "markdown",
   "metadata": {},
   "source": [
    "### Wrap-Up"
   ]
  },
  {
   "cell_type": "markdown",
   "metadata": {},
   "source": [
    "In conclusion, we have our top ten schools listed above, built through counts of alumni pages on wikipedia."
   ]
  },
  {
   "cell_type": "markdown",
   "metadata": {},
   "source": [
    "**Where is our model weak?** <br><br>\n",
    "Well as mentioned before, the nature of what we are measuring might give some advantage to certain occupations – being in the theatre/television business is more likely to land you a wikipedia page. Still, I think it is a fair measure of the overall success of a given school. <br>\n",
    "Also, our list is rather similar to the aggregate list created at the beginning of this notebook. That tells me there really is a correlation between being the 'best school' and have the most notable alumni.<br><br>\n",
    "One other weakness in our model is the disorganization of information on wikipedia. Because of this disorganizing I was unable to use *occupation* data effectively, something that would have been really interesting to see. On top of that, we may have missed a bunch of hits for some schools if their name was inputted differently. For instance, there are 9 hits for *Cornell* in the data set. Is this Cornell University? It is hard to tell.<br><br>\n",
    "For the most part, I do not think these mislabelings have impacted the data set much given how large the data set is (9 more hits for *Cornell University* wasn't going to bring us above UChicago). But one school it may have significantly affected is Oxford University– oftentimes alumni of Oxford list their college within Oxford as their alma mater rather than Oxford itself. Perhaps if the data was more organized Oxford would have made it into the top ten list. <br><br>\n",
    "However, then Cornell would have been bumped off so maybe this disorganized data isn't all bad."
   ]
  },
  {
   "cell_type": "markdown",
   "metadata": {},
   "source": [
    "**Where is our model strong?** <br><br>\n",
    "Well, we identified pretty conclusively that Harvard is by far the strongest college in terms of notable alumni. I think this data certainly corroborates the lists we downloaded at the beginning of this notebook that place Harvard at the top of tertiary education institutions.<br><br>\n",
    "I also think that getting UMichigan and NYU on our list is pretty significant – while they are often considered good schools they are rarely ranked in the very top ten. Is that something that might change? Certainly we have shown that these two schools have had their fair share of success. And the rate of increase for both schools seems to be on par with the ivies around them."
   ]
  },
  {
   "cell_type": "code",
   "execution_count": 37,
   "metadata": {},
   "outputs": [],
   "source": [
    "# Finally let's save some of our data in csv files to be accessable in other notebooks\n",
    "tertiary_education.to_csv('tertiary_education_filtered.csv',index=True)\n",
    "# Other data needed for other files: aggregate_ranking, top_ten, years, schools_success_by_years\n",
    "#              top_schools, top_schools_lower, top_schools_upper"
   ]
  }
 ],
 "metadata": {
  "kernelspec": {
   "display_name": "Python 3",
   "language": "python",
   "name": "python3"
  },
  "language_info": {
   "codemirror_mode": {
    "name": "ipython",
    "version": 3
   },
   "file_extension": ".py",
   "mimetype": "text/x-python",
   "name": "python",
   "nbconvert_exporter": "python",
   "pygments_lexer": "ipython3",
   "version": "3.7.4"
  }
 },
 "nbformat": 4,
 "nbformat_minor": 2
}
